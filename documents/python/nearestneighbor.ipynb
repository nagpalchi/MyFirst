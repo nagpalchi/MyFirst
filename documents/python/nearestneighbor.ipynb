{
 "cells": [
  {
   "cell_type": "code",
   "execution_count": 8,
   "metadata": {},
   "outputs": [
    {
     "data": {
      "text/plain": [
       "<matplotlib.collections.PathCollection at 0x1f222ef2da0>"
      ]
     },
     "execution_count": 8,
     "metadata": {},
     "output_type": "execute_result"
    },
    {
     "data": {
      "image/png": "[encoded data removed]",
      "text/plain": [
       "<Figure size 432x288 with 1 Axes>"
      ]
     },
     "metadata": {
      "needs_background": "light"
     },
     "output_type": "display_data"
    }
   ],
   "source": [
    "import numpy as np\n",
    "from sklearn.model_selection import train_test_split\n",
    "import matplotlib.pyplot as plt\n",
    "%matplotlib inline\n",
    "np.random.seed(2019)\n",
    "data = np.random.randn(200,2)\n",
    "data[:100,0]= data[:100,0]*4+ 10\n",
    "data[:100,1]= data[:100,1]*4+ 5\n",
    " \n",
    "data[100:,0]= data[100:,0]*4+ 18\n",
    "data[100:,1]= data[100:,1]*4+ 13\n",
    " \n",
    "y = np.append(np.ones(100),np.zeros(100))\n",
    " \n",
    "plt.scatter(data[:100, 0], data[:100, 1], color='red',\n",
    "            marker='o', label='class1')\n",
    "plt.scatter(data[100:, 0], data[100:, 1], color='blue',\n",
    "            marker='o', label='class1')"
   ]
  },
  {
   "cell_type": "code",
   "execution_count": 9,
   "metadata": {},
   "outputs": [],
   "source": [
    "X_train , X_test , y_train , y_test = train_test_split(data,y,test_size = 0.5,stratify = y)\n"
   ]
  },
  {
   "cell_type": "code",
   "execution_count": 10,
   "metadata": {},
   "outputs": [
    {
     "name": "stdout",
     "output_type": "stream",
     "text": [
      "Percentage accuracy is 94%\n"
     ]
    }
   ],
   "source": [
    "count =0\n",
    "countone,countzero = 0,0\n",
    "ypredict = []\n",
    "dist_arr = []\n",
    "for j in range(100):\n",
    "    for i in range(100):\n",
    "        dist_arr.append((((X_test[j][0]-X_train[i][0])**2 + (X_test[j][1]-X_train[i][1])**2)**1/2))\n",
    "    dist_arr = np.array(dist_arr)\n",
    "    argsortedarray = y_train[np.argsort(dist_arr)[:5]]\n",
    "    if np.sum(argsortedarray)<=2:\n",
    "        ypredict.append(0)\n",
    "    else:\n",
    "        ypredict.append(1)\n",
    "    dist_arr = []\n",
    "    if ypredict[j]==y_test[j]:\n",
    "        count+=1\n",
    "\n",
    "print(\"Percentage accuracy is \"+str(count)+\"%\")"
   ]
  },
  {
   "cell_type": "code",
   "execution_count": null,
   "metadata": {},
   "outputs": [],
   "source": []
  },
  {
   "cell_type": "code",
   "execution_count": null,
   "metadata": {},
   "outputs": [],
   "source": []
  },
  {
   "cell_type": "code",
   "execution_count": null,
   "metadata": {},
   "outputs": [],
   "source": []
  },
  {
   "cell_type": "code",
   "execution_count": 11,
   "metadata": {},
   "outputs": [
    {
     "data": {
      "text/plain": [
       "(100, 2)"
      ]
     },
     "execution_count": 11,
     "metadata": {},
     "output_type": "execute_result"
    }
   ],
   "source": [
    "X_train.shape"
   ]
  },
  {
   "cell_type": "code",
   "execution_count": 12,
   "metadata": {},
   "outputs": [],
   "source": [
    "for i in range(100):\n",
    "        dist_arr.append((((X_test[j][0]-X_train[i][0])**2 + (X_test[j][1]-X_train[i][1])**2)**1/2))"
   ]
  },
  {
   "cell_type": "code",
   "execution_count": null,
   "metadata": {},
   "outputs": [],
   "source": []
  },
  {
   "cell_type": "code",
   "execution_count": null,
   "metadata": {},
   "outputs": [],
   "source": []
  },
  {
   "cell_type": "code",
   "execution_count": 13,
   "metadata": {},
   "outputs": [
    {
     "data": {
      "text/plain": [
       "[<matplotlib.lines.Line2D at 0x1f222f55da0>]"
      ]
     },
     "execution_count": 13,
     "metadata": {},
     "output_type": "execute_result"
    },
    {
     "data": {
      "image/png": "[encoded data removed]",
      "text/plain": [
       "<Figure size 432x288 with 1 Axes>"
      ]
     },
     "metadata": {
      "needs_background": "light"
     },
     "output_type": "display_data"
    }
   ],
   "source": [
    "\n",
    "k  = np.arange(1,27,2)\n",
    "\n",
    "dist_arr = []\n",
    "acc_list= []\n",
    "for tracker in k:\n",
    "    count=0\n",
    "    ypredict = []\n",
    "    for j in range(100):\n",
    "        dist_arr = np.sqrt(np.square(X_test[j,0]-X_train[:,0]) + np.square(X_test[j,1]-X_train[:,1]))\n",
    "        argsortedarray = y_train[np.argsort(dist_arr)[:tracker]]\n",
    "        if np.sum(argsortedarray)<=tracker/2:\n",
    "            ypredict.append(0)\n",
    "        else:\n",
    "            ypredict.append(1)\n",
    "        dist_arr = []\n",
    "        if ypredict[j]==y_test[j]:\n",
    "            count+=1\n",
    "    acc_list.append(count)\n",
    "plt.plot(k,acc_list)"
   ]
  },
  {
   "cell_type": "code",
   "execution_count": 14,
   "metadata": {},
   "outputs": [
    {
     "data": {
      "text/plain": [
       "[84, 92, 94, 94, 95, 93, 94, 94, 94, 95, 95, 95, 95]"
      ]
     },
     "execution_count": 14,
     "metadata": {},
     "output_type": "execute_result"
    }
   ],
   "source": [
    "acc_list"
   ]
  },
  {
   "cell_type": "code",
   "execution_count": 8,
   "metadata": {},
   "outputs": [
    {
     "ename": "SyntaxError",
     "evalue": "invalid syntax (<ipython-input-8-cbcbc2ce4c4c>, line 1)",
     "output_type": "error",
     "traceback": [
      "\u001b[1;36m  File \u001b[1;32m\"<ipython-input-8-cbcbc2ce4c4c>\"\u001b[1;36m, line \u001b[1;32m1\u001b[0m\n\u001b[1;33m    probabilitycalculator = np.random.choice (array, arraynumberofele, p = [probabilities consecutively jiska sum =1])\u001b[0m\n\u001b[1;37m                                                                                                      ^\u001b[0m\n\u001b[1;31mSyntaxError\u001b[0m\u001b[1;31m:\u001b[0m invalid syntax\n"
     ]
    }
   ],
   "source": [
    "probabilitycalculator = np.random.choice (array, arraynumberofele, p = [probabilities consecutively jiska sum =1])"
   ]
  },
  {
   "cell_type": "code",
   "execution_count": null,
   "metadata": {},
   "outputs": [],
   "source": []
  },
  {
   "cell_type": "code",
   "execution_count": 9,
   "metadata": {},
   "outputs": [
    {
     "name": "stdout",
     "output_type": "stream",
     "text": [
      "[1 1 3 3 3 1 1 2 1 3 1 2 3 3 3 1 1 1 1 1 2 2 3 2 3 1 1 2 1 1]\n"
     ]
    }
   ],
   "source": [
    "a = np.random.choice ([1,2,3], 30, p = [1/2,1/8,3/8])\n",
    "print(a)"
   ]
  },
  {
   "cell_type": "code",
   "execution_count": null,
   "metadata": {},
   "outputs": [],
   "source": []
  },
  {
   "cell_type": "code",
   "execution_count": 11,
   "metadata": {},
   "outputs": [
    {
     "name": "stdout",
     "output_type": "stream",
     "text": [
      "[ 1  3  5  7  9 11 13 15 17 19 21 23 25]\n"
     ]
    }
   ],
   "source": [
    "k = np.arange(1,27,2)\n",
    "print(k)"
   ]
  },
  {
   "cell_type": "code",
   "execution_count": null,
   "metadata": {},
   "outputs": [],
   "source": []
  },
  {
   "cell_type": "code",
   "execution_count": null,
   "metadata": {},
   "outputs": [],
   "source": []
  },
  {
   "cell_type": "code",
   "execution_count": null,
   "metadata": {},
   "outputs": [],
   "source": []
  },
  {
   "cell_type": "code",
   "execution_count": null,
   "metadata": {},
   "outputs": [],
   "source": []
  },
  {
   "cell_type": "code",
   "execution_count": null,
   "metadata": {},
   "outputs": [],
   "source": []
  },
  {
   "cell_type": "code",
   "execution_count": null,
   "metadata": {},
   "outputs": [],
   "source": []
  },
  {
   "cell_type": "code",
   "execution_count": null,
   "metadata": {},
   "outputs": [],
   "source": []
  },
  {
   "cell_type": "code",
   "execution_count": null,
   "metadata": {},
   "outputs": [],
   "source": []
  },
  {
   "cell_type": "code",
   "execution_count": 5,
   "metadata": {},
   "outputs": [
    {
     "data": {
      "text/plain": [
       "[<matplotlib.lines.Line2D at 0x1f222e1deb8>]"
      ]
     },
     "execution_count": 5,
     "metadata": {},
     "output_type": "execute_result"
    },
    {
     "data": {
      "image/png": "[encoded data removed]",
      "text/plain": [
       "<Figure size 432x288 with 1 Axes>"
      ]
     },
     "metadata": {
      "needs_background": "light"
     },
     "output_type": "display_data"
    }
   ],
   "source": [
    "\n",
    "k  = np.arange(1,27,2)\n",
    "ypredict = []\n",
    "dist_arr = []\n",
    "acc_list= []\n",
    "for tracker in k:\n",
    "    count=0\n",
    "    for j in range(100):\n",
    "        dist_arr = np.sqrt(np.square(X_test[j,0]-X_train[:,0]) + np.square(X_test[j,1]-X_train[:,1]))\n",
    "        argsortedarray = y_train[np.argsort(dist_arr)[:tracker]]\n",
    "        if np.sum(argsortedarray)<=tracker/2:\n",
    "            ypredict.append(0)\n",
    "        else:\n",
    "            ypredict.append(1)\n",
    "        dist_arr = []\n",
    "        if ypredict[j]==y_test[j]:\n",
    "            count+=1\n",
    "    ypredict = []\n",
    "        \n",
    "    acc_list.append(count)\n",
    "plt.plot(k,acc_list)"
   ]
  },
  {
   "cell_type": "code",
   "execution_count": null,
   "metadata": {},
   "outputs": [],
   "source": []
  }
 ],
 "metadata": {
  "kernelspec": {
   "display_name": "Python 3",
   "language": "python",
   "name": "python3"
  },
  "language_info": {
   "codemirror_mode": {
    "name": "ipython",
    "version": 3
   },
   "file_extension": ".py",
   "mimetype": "text/x-python",
   "name": "python",
   "nbconvert_exporter": "python",
   "pygments_lexer": "ipython3",
   "version": "3.7.2"
  }
 },
 "nbformat": 4,
 "nbformat_minor": 2
}
