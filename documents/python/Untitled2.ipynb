{
 "cells": [
  {
   "cell_type": "code",
   "execution_count": null,
   "metadata": {},
   "outputs": [],
   "source": [
    "from random import randint\n",
    "\n",
    "import matplotlib.pyplot as plt\n",
    "class stairs():\n",
    "    currentpos = 0\n",
    "    def function (self):\n",
    "        temp1 = randint(1,4)\n",
    "        if temp1 == 1 or temp1 == 2 or temp1 == 3:\n",
    "            temp = randint(1,3)\n",
    "        elif temp1 == 4:\n",
    "            temp = randint(4,6)\n",
    "        if temp == 1 or temp == 2 or temp == 3:\n",
    "            if self.currentpos == 0:\n",
    "                pass\n",
    "            else:\n",
    "                self.currentpos -= 1\n",
    "        elif temp == 4 or temp == 5:\n",
    "            self.currentpos +=1\n",
    "        elif temp == 6:\n",
    "            temp = randint(1,6)\n",
    "            self.currentpos+=temp\n",
    "histo = []\n",
    "strRef = stairs()\n",
    "inp = input(\"Enter the number of experiments you want\")\n",
    "for iterate in range(int(inp)):\n",
    "    strRef.currentpos =0\n",
    "    for iterating in range(1000):\n",
    "        strRef.function()\n",
    "    histo.append(strRef.currentpos)\n",
    "print(\"The person is at \"+str(strRef.currentpos)+\"th position\")\n"
   ]
  },
  {
   "cell_type": "code",
   "execution_count": null,
   "metadata": {},
   "outputs": [],
   "source": []
  }
 ],
 "metadata": {
  "kernelspec": {
   "display_name": "Python 3",
   "language": "python",
   "name": "python3"
  },
  "language_info": {
   "codemirror_mode": {
    "name": "ipython",
    "version": 3
   },
   "file_extension": ".py",
   "mimetype": "text/x-python",
   "name": "python",
   "nbconvert_exporter": "python",
   "pygments_lexer": "ipython3",
   "version": "3.7.2"
  }
 },
 "nbformat": 4,
 "nbformat_minor": 2
}
