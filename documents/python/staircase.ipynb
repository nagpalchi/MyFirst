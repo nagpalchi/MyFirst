{
 "cells": [
  {
   "cell_type": "code",
   "execution_count": 109,
   "metadata": {},
   "outputs": [
    {
     "name": "stdout",
     "output_type": "stream",
     "text": [
      "Enter the number of experiments you want1000\n",
      "The person is at -372th position\n"
     ]
    }
   ],
   "source": [
    "from random import randint\n",
    "\n",
    "import matplotlib.pyplot as plt\n",
    "class stairs():\n",
    "    currentpos = 0\n",
    "    def function (self):\n",
    "        temp1 = randint(1,4)\n",
    "        if temp1 == 1 or temp1 == 2 or temp1 == 3:\n",
    "            temp = randint(1,3)\n",
    "        elif temp1 == 4:\n",
    "            temp = randint(4,6)\n",
    "        if temp == 1 or temp == 2 or temp == 3:\n",
    "            self.currentpos -= 1\n",
    "        elif temp == 4 or temp == 5:\n",
    "            self.currentpos +=1\n",
    "        elif temp == 6:\n",
    "            temp1 = randint(1,4)\n",
    "            if temp1 == 1 or temp1 == 2 or temp1 == 3:\n",
    "                self.currentpos+=temp1\n",
    "            elif temp1 == 4:\n",
    "                temp = randint(4,6)\n",
    "                self.currentpos+=temp\n",
    "histo = []\n",
    "strRef = stairs()\n",
    "inp = input(\"Enter the number of experiments you want\")\n",
    "for iterate in range(int(inp)):\n",
    "    strRef.currentpos =0\n",
    "    for iterating in range(1000):\n",
    "        strRef.function()\n",
    "    histo.append(strRef.currentpos)\n",
    "print(\"The person is at \"+str(strRef.currentpos)+\"th position\")\n"
   ]
  },
  {
   "cell_type": "code",
   "execution_count": 110,
   "metadata": {},
   "outputs": [
    {
     "data": {
      "text/plain": [
       "(array([ 1.,  0.,  1.,  1.,  0.,  1.,  0.,  4.,  4.,  0.,  5.,  1.,  3.,\n",
       "         4.,  1.,  7.,  4.,  3.,  3.,  6.,  9., 14.,  6., 17.,  4.,  9.,\n",
       "        12., 14., 24., 13., 14., 12., 36., 14., 22., 15., 20., 20., 16.,\n",
       "        23., 20., 29., 14., 26., 30., 30., 13., 29., 27., 17., 31., 16.,\n",
       "        33., 17., 32., 19., 25., 14., 18., 19., 16., 11.,  8., 14., 10.,\n",
       "        15., 15., 13.,  8.,  4.,  6.,  3.,  3., 12.,  0.,  3.,  9.,  2.,\n",
       "         4.,  2.,  4.,  3.,  4.,  0.,  3.,  0.,  1.,  2.,  0.,  1.,  0.,\n",
       "         0.,  0.,  1.,  0.,  0.,  0.,  0.,  0.,  1.]),\n",
       " array([-467.  , -464.54, -462.08, -459.62, -457.16, -454.7 , -452.24,\n",
       "        -449.78, -447.32, -444.86, -442.4 , -439.94, -437.48, -435.02,\n",
       "        -432.56, -430.1 , -427.64, -425.18, -422.72, -420.26, -417.8 ,\n",
       "        -415.34, -412.88, -410.42, -407.96, -405.5 , -403.04, -400.58,\n",
       "        -398.12, -395.66, -393.2 , -390.74, -388.28, -385.82, -383.36,\n",
       "        -380.9 , -378.44, -375.98, -373.52, -371.06, -368.6 , -366.14,\n",
       "        -363.68, -361.22, -358.76, -356.3 , -353.84, -351.38, -348.92,\n",
       "        -346.46, -344.  , -341.54, -339.08, -336.62, -334.16, -331.7 ,\n",
       "        -329.24, -326.78, -324.32, -321.86, -319.4 , -316.94, -314.48,\n",
       "        -312.02, -309.56, -307.1 , -304.64, -302.18, -299.72, -297.26,\n",
       "        -294.8 , -292.34, -289.88, -287.42, -284.96, -282.5 , -280.04,\n",
       "        -277.58, -275.12, -272.66, -270.2 , -267.74, -265.28, -262.82,\n",
       "        -260.36, -257.9 , -255.44, -252.98, -250.52, -248.06, -245.6 ,\n",
       "        -243.14, -240.68, -238.22, -235.76, -233.3 , -230.84, -228.38,\n",
       "        -225.92, -223.46, -221.  ]),\n",
       " <a list of 100 Patch objects>)"
      ]
     },
     "execution_count": 110,
     "metadata": {},
     "output_type": "execute_result"
    },
    {
     "data": {
      "image/png": "[encoded data removed]",
      "text/plain": [
       "<Figure size 432x288 with 1 Axes>"
      ]
     },
     "metadata": {
      "needs_background": "light"
     },
     "output_type": "display_data"
    }
   ],
   "source": [
    "plt.hist(histo,bins=100)"
   ]
  },
  {
   "cell_type": "code",
   "execution_count": 111,
   "metadata": {},
   "outputs": [],
   "source": [
    "import numpy as np\n",
    "histo = np.array(histo)"
   ]
  },
  {
   "cell_type": "code",
   "execution_count": 112,
   "metadata": {},
   "outputs": [
    {
     "data": {
      "text/plain": [
       "array([-433, -397, -338, -387, -335, -332, -339, -338, -330, -327, -428,\n",
       "       -324, -429, -378, -405, -403, -398, -354, -437, -344, -363, -316,\n",
       "       -380, -317, -326, -421, -365, -367, -318, -446, -325, -374, -304,\n",
       "       -307, -322, -379, -397, -277, -318, -318, -388, -304, -333, -387,\n",
       "       -384, -349, -311, -302, -349, -343, -356, -374, -409, -303, -306,\n",
       "       -384, -355, -414, -384, -383, -332, -357, -341, -336, -364, -327,\n",
       "       -387, -318, -297, -386, -316, -414, -364, -397, -322, -379, -280,\n",
       "       -348, -301, -287, -395, -339, -356, -321, -370, -323, -320, -381,\n",
       "       -410, -346, -342, -366, -403, -337, -413, -269, -330, -383, -328,\n",
       "       -331, -386, -417, -316, -349, -338, -424, -312, -347, -347, -336,\n",
       "       -359, -332, -337, -338, -314, -398, -379, -345, -325, -381, -357,\n",
       "       -386, -325, -312, -326, -343, -358, -311, -346, -309, -265, -357,\n",
       "       -389, -341, -293, -356, -324, -367, -404, -380, -346, -418, -336,\n",
       "       -395, -343, -258, -360, -414, -307, -409, -265, -345, -328, -399,\n",
       "       -304, -398, -318, -344, -356, -383, -427, -399, -392, -332, -377,\n",
       "       -345, -341, -395, -354, -369, -440, -278, -389, -371, -385, -328,\n",
       "       -351, -364, -351, -348, -342, -365, -395, -383, -337, -344, -324,\n",
       "       -323, -383, -287, -341, -299, -399, -308, -448, -354, -325, -286,\n",
       "       -275, -374, -395, -361, -396, -335, -333, -310, -402, -365, -365,\n",
       "       -282, -348, -397, -336, -351, -396, -368, -393, -354, -369, -321,\n",
       "       -384, -347, -448, -347, -331, -338, -375, -402, -263, -385, -352,\n",
       "       -369, -328, -295, -389, -312, -368, -363, -388, -281, -318, -268,\n",
       "       -404, -326, -411, -334, -330, -360, -349, -406, -388, -377, -414,\n",
       "       -302, -321, -436, -337, -305, -324, -325, -383, -348, -347, -337,\n",
       "       -433, -330, -252, -294, -393, -448, -394, -408, -332, -404, -320,\n",
       "       -364, -401, -339, -414, -358, -418, -320, -340, -338, -357, -372,\n",
       "       -332, -374, -356, -347, -370, -309, -367, -373, -355, -380, -312,\n",
       "       -434, -350, -304, -372, -303, -359, -354, -376, -380, -371, -395,\n",
       "       -329, -380, -331, -364, -321, -293, -334, -388, -449, -385, -371,\n",
       "       -377, -278, -357, -371, -332, -304, -387, -351, -325, -333, -390,\n",
       "       -278, -299, -382, -397, -338, -409, -367, -345, -342, -400, -330,\n",
       "       -323, -374, -334, -336, -396, -330, -344, -335, -309, -381, -373,\n",
       "       -346, -382, -385, -344, -337, -336, -398, -379, -272, -306, -306,\n",
       "       -300, -368, -369, -339, -362, -267, -388, -388, -259, -373, -387,\n",
       "       -358, -417, -294, -342, -410, -330, -366, -440, -401, -306, -377,\n",
       "       -333, -388, -361, -427, -360, -303, -352, -358, -390, -387, -330,\n",
       "       -331, -367, -404, -340, -298, -369, -359, -352, -341, -383, -323,\n",
       "       -275, -311, -330, -315, -361, -336, -369, -381, -348, -337, -348,\n",
       "       -349, -381, -342, -333, -374, -356, -320, -383, -313, -369, -372,\n",
       "       -374, -352, -357, -429, -342, -279, -275, -358, -344, -297, -352,\n",
       "       -346, -370, -409, -320, -337, -324, -341, -389, -391, -416, -413,\n",
       "       -373, -380, -337, -320, -379, -335, -350, -358, -337, -306, -327,\n",
       "       -383, -350, -346, -327, -366, -237, -349, -336, -345, -349, -359,\n",
       "       -347, -408, -361, -312, -349, -334, -265, -347, -287, -388, -386,\n",
       "       -348, -399, -358, -419, -337, -307, -393, -300, -376, -356, -411,\n",
       "       -334, -403, -275, -360, -399, -398, -303, -358, -341, -329, -318,\n",
       "       -424, -337, -333, -373, -440, -370, -336, -376, -278, -349, -356,\n",
       "       -299, -361, -397, -327, -390, -369, -357, -359, -354, -372, -366,\n",
       "       -289, -317, -334, -376, -414, -435, -395, -414, -301, -399, -331,\n",
       "       -294, -402, -400, -358, -347, -384, -391, -334, -376, -395, -351,\n",
       "       -349, -357, -371, -343, -343, -349, -336, -356, -315, -344, -384,\n",
       "       -414, -291, -302, -267, -337, -333, -393, -286, -367, -359, -330,\n",
       "       -332, -386, -357, -320, -364, -398, -344, -299, -357, -333, -334,\n",
       "       -353, -415, -401, -304, -285, -418, -384, -388, -310, -358, -338,\n",
       "       -369, -389, -366, -345, -340, -422, -305, -344, -315, -309, -319,\n",
       "       -319, -299, -374, -376, -383, -333, -350, -410, -303, -334, -344,\n",
       "       -356, -391, -347, -343, -376, -339, -430, -360, -343, -410, -375,\n",
       "       -337, -372, -386, -351, -327, -348, -361, -404, -387, -358, -349,\n",
       "       -377, -305, -328, -355, -321, -329, -419, -355, -458, -445, -373,\n",
       "       -375, -398, -363, -346, -368, -375, -342, -368, -316, -341, -313,\n",
       "       -313, -311, -358, -320, -305, -356, -366, -415, -445, -386, -356,\n",
       "       -364, -417, -352, -366, -312, -408, -441, -301, -344, -359, -370,\n",
       "       -310, -340, -399, -363, -387, -327, -385, -352, -303, -355, -375,\n",
       "       -306, -331, -339, -342, -348, -397, -320, -314, -401, -332, -439,\n",
       "       -397, -460, -368, -417, -278, -467, -329, -374, -374, -352, -368,\n",
       "       -323, -386, -356, -286, -381, -285, -272, -246, -412, -270, -350,\n",
       "       -270, -363, -387, -402, -328, -426, -289, -360, -330, -394, -327,\n",
       "       -365, -375, -361, -300, -363, -325, -367, -366, -285, -398, -340,\n",
       "       -279, -360, -404, -221, -388, -281, -362, -302, -398, -377, -260,\n",
       "       -414, -348, -366, -361, -374, -360, -359, -408, -362, -347, -310,\n",
       "       -293, -366, -357, -321, -372, -400, -422, -441, -391, -290, -389,\n",
       "       -387, -345, -405, -390, -315, -370, -379, -402, -409, -347, -343,\n",
       "       -338, -316, -333, -345, -349, -411, -287, -316, -396, -315, -353,\n",
       "       -331, -380, -392, -299, -453, -322, -348, -289, -397, -436, -347,\n",
       "       -347, -373, -313, -377, -411, -393, -321, -372, -365, -337, -381,\n",
       "       -303, -352, -416, -447, -355, -314, -389, -355, -358, -379, -366,\n",
       "       -367, -353, -383, -399, -345, -322, -385, -428, -413, -318, -362,\n",
       "       -366, -362, -299, -358, -366, -319, -341, -309, -426, -339, -417,\n",
       "       -388, -363, -378, -292, -408, -387, -396, -393, -277, -353, -307,\n",
       "       -375, -335, -350, -304, -404, -327, -354, -363, -368, -416, -318,\n",
       "       -428, -279, -317, -355, -330, -406, -314, -308, -332, -393, -323,\n",
       "       -432, -416, -365, -318, -287, -327, -384, -387, -320, -335, -366,\n",
       "       -383, -321, -324, -347, -302, -323, -400, -356, -387, -399, -343,\n",
       "       -309, -369, -296, -286, -336, -355, -253, -395, -383, -309, -347,\n",
       "       -376, -340, -342, -366, -370, -368, -360, -399, -406, -326, -386,\n",
       "       -412, -376, -332, -325, -424, -341, -357, -409, -407, -408, -420,\n",
       "       -390, -302, -266, -386, -408, -325, -367, -329, -373, -303, -386,\n",
       "       -337, -358, -328, -308, -428, -337, -378, -346, -360, -334, -350,\n",
       "       -363, -371, -380, -329, -396, -349, -357, -302, -252, -327, -332,\n",
       "       -357, -324, -368, -326, -343, -358, -344, -395, -368, -329, -391,\n",
       "       -351, -378, -386, -375, -375, -307, -351, -394, -321, -372])"
      ]
     },
     "execution_count": 112,
     "metadata": {},
     "output_type": "execute_result"
    }
   ],
   "source": [
    "histo"
   ]
  },
  {
   "cell_type": "code",
   "execution_count": 113,
   "metadata": {},
   "outputs": [
    {
     "name": "stdout",
     "output_type": "stream",
     "text": [
      "mean  is   -354.724\n",
      "standard deviation is  39.41205176085102\n"
     ]
    }
   ],
   "source": [
    "meanis = histo.mean()\n",
    "stdis = histo.std()\n",
    "print('mean  is  ',meanis)\n",
    "print('standard deviation is ',stdis)"
   ]
  },
  {
   "cell_type": "code",
   "execution_count": null,
   "metadata": {},
   "outputs": [],
   "source": []
  },
  {
   "cell_type": "code",
   "execution_count": 101,
   "metadata": {},
   "outputs": [],
   "source": [
    "listing = []\n",
    "for i in range (1000):\n",
    "    listing.append(randint(1,7))"
   ]
  },
  {
   "cell_type": "code",
   "execution_count": 102,
   "metadata": {},
   "outputs": [
    {
     "data": {
      "text/plain": [
       "(array([137., 137.,   0., 139.,   0., 139., 157.,   0., 135., 156.]),\n",
       " array([1. , 1.6, 2.2, 2.8, 3.4, 4. , 4.6, 5.2, 5.8, 6.4, 7. ]),\n",
       " <a list of 10 Patch objects>)"
      ]
     },
     "execution_count": 102,
     "metadata": {},
     "output_type": "execute_result"
    },
    {
     "data": {
      "image/png": "[encoded data removed]",
      "text/plain": [
       "<Figure size 432x288 with 1 Axes>"
      ]
     },
     "metadata": {
      "needs_background": "light"
     },
     "output_type": "display_data"
    }
   ],
   "source": [
    "plt.hist(listing)"
   ]
  },
  {
   "cell_type": "code",
   "execution_count": 52,
   "metadata": {},
   "outputs": [
    {
     "data": {
      "text/plain": [
       "3"
      ]
     },
     "execution_count": 52,
     "metadata": {},
     "output_type": "execute_result"
    }
   ],
   "source": []
  },
  {
   "cell_type": "code",
   "execution_count": 114,
   "metadata": {},
   "outputs": [],
   "source": []
  },
  {
   "cell_type": "code",
   "execution_count": null,
   "metadata": {},
   "outputs": [],
   "source": []
  }
 ],
 "metadata": {
  "kernelspec": {
   "display_name": "Python 3",
   "language": "python",
   "name": "python3"
  },
  "language_info": {
   "codemirror_mode": {
    "name": "ipython",
    "version": 3
   },
   "file_extension": ".py",
   "mimetype": "text/x-python",
   "name": "python",
   "nbconvert_exporter": "python",
   "pygments_lexer": "ipython3",
   "version": "3.7.2"
  }
 },
 "nbformat": 4,
 "nbformat_minor": 2
}
