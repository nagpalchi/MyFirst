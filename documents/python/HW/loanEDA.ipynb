{
 "cells": [
  {
   "cell_type": "code",
   "execution_count": 84,
   "metadata": {},
   "outputs": [],
   "source": [
    "import numpy as np\n",
    "import pandas as pd\n",
    "import matplotlib.pyplot as plt\n",
    "import seaborn as sns"
   ]
  },
  {
   "cell_type": "code",
   "execution_count": 85,
   "metadata": {},
   "outputs": [
    {
     "name": "stderr",
     "output_type": "stream",
     "text": [
      "c:\\users\\chirag nagpal\\appdata\\local\\programs\\python\\python37\\lib\\site-packages\\IPython\\core\\interactiveshell.py:3020: DtypeWarning: Columns (19,55) have mixed types. Specify dtype option on import or set low_memory=False.\n",
      "  interactivity=interactivity, compiler=compiler, result=result)\n"
     ]
    }
   ],
   "source": [
    "data_set = pd.read_csv(\"loan.csv\")"
   ]
  },
  {
   "cell_type": "code",
   "execution_count": null,
   "metadata": {},
   "outputs": [],
   "source": []
  },
  {
   "cell_type": "code",
   "execution_count": 87,
   "metadata": {},
   "outputs": [],
   "source": [
    "data_set['tot_coll_amt'] = data_set['tot_coll_amt'].fillna(data_set.tot_coll_amt.mean())\n",
    "data_set['tot_cur_bal'] = data_set['tot_cur_bal'].fillna(data_set.tot_cur_bal.mean())\n",
    "data_set['mths_since_last_major_derog'] = data_set['mths_since_last_major_derog'].fillna(data_set.mths_since_last_major_derog.mean())\n",
    "data_set['total_rev_hi_lim'] = data_set['total_rev_hi_lim'].fillna(data_set.total_rev_hi_lim.mean())\n",
    "data_set['emp_length']= data_set['emp_length'].fillna(\"6 years\")\n",
    "data_set['annual_inc'] = data_set['annual_inc'].fillna(data_set.annual_inc.mean())\n",
    "data_set['collections_12_mths_ex_med']= data_set['collections_12_mths_ex_med'].fillna(0)\n",
    "data_set['revol_util'] = data_set['revol_util'].fillna(data_set.revol_util.mean())\n",
    "data_set['total_acc'] = data_set['total_acc'].fillna(data_set.total_acc.mean())\n",
    "data_set['open_acc'] = data_set['open_acc'].fillna(data_set.open_acc.mean())\n",
    "data_set['pub_rec']= data_set['pub_rec'].fillna(0)\n",
    "data_set['delinq_2yrs'] = data_set['delinq_2yrs'].fillna(data_set.delinq_2yrs.mean())\n",
    "data_set['inq_last_6mths'] = data_set['inq_last_6mths'].fillna(data_set.inq_last_6mths.mean())\n",
    "data_set['mths_since_last_record'] = data_set['mths_since_last_record'].fillna(data_set.mths_since_last_record.median())\n",
    "data_set['mths_since_last_delinq'] = data_set['mths_since_last_delinq'].fillna(data_set.mths_since_last_delinq.mean())\n",
    "data_set['acc_now_delinq'] = data_set['acc_now_delinq'].fillna(data_set.acc_now_delinq.mean())"
   ]
  },
  {
   "cell_type": "code",
   "execution_count": 88,
   "metadata": {},
   "outputs": [],
   "source": [
    "data_set = data_set.drop(columns=['id','member_id','grade','issue_d','emp_title','url','desc','pymnt_plan','title','zip_code','addr_state','earliest_cr_line','last_pymnt_d','last_credit_pull_d','next_pymnt_d','annual_inc_joint','dti_joint','verification_status_joint','open_acc_6m','open_il_6m','open_il_12m','open_il_24m','mths_since_rcnt_il','total_bal_il','il_util','open_rv_12m','open_rv_24m','max_bal_bc','all_util','inq_fi','total_cu_tl','inq_last_12m'],axis=1)"
   ]
  },
  {
   "cell_type": "code",
   "execution_count": null,
   "metadata": {},
   "outputs": [],
   "source": []
  },
  {
   "cell_type": "code",
   "execution_count": 89,
   "metadata": {},
   "outputs": [],
   "source": [
    "term_period = pd.get_dummies(data_set['term'],drop_first=True)\n",
    "subgrades = pd.get_dummies(data_set['sub_grade'],drop_first=True)\n",
    "home_owner = pd.get_dummies(data_set['home_ownership'],drop_first=True)\n",
    "verification_status = pd.get_dummies(data_set['verification_status'],drop_first=True)\n",
    "purpose = pd.get_dummies(data_set['purpose'],drop_first=True)\n",
    "initliststatus = pd.get_dummies(data_set['initial_list_status'],drop_first=True)\n",
    "application_type = pd.get_dummies(data_set['application_type'],drop_first=True)\n",
    "emp_length = pd.get_dummies(data_set['emp_length'],drop_first=True)"
   ]
  },
  {
   "cell_type": "code",
   "execution_count": 90,
   "metadata": {},
   "outputs": [],
   "source": [
    "data_set = data_set.drop(columns=['term','sub_grade','home_ownership','verification_status','purpose','initial_list_status','application_type','emp_length'],axis=1)"
   ]
  },
  {
   "cell_type": "code",
   "execution_count": 91,
   "metadata": {},
   "outputs": [],
   "source": [
    "data_set = pd.concat([data_set,term_period,grades,subgrades,home_owner,verification_status,purpose,initliststatus,application_type,emp_length],axis =1)"
   ]
  },
  {
   "cell_type": "code",
   "execution_count": null,
   "metadata": {},
   "outputs": [],
   "source": [
    "data_set.info()"
   ]
  },
  {
   "cell_type": "code",
   "execution_count": null,
   "metadata": {},
   "outputs": [],
   "source": []
  },
  {
   "cell_type": "code",
   "execution_count": null,
   "metadata": {},
   "outputs": [],
   "source": []
  },
  {
   "cell_type": "code",
   "execution_count": null,
   "metadata": {},
   "outputs": [],
   "source": [
    "sns.set_color_codes()\n",
    "\n",
    "fig, ax1 = plt.subplots(1,1, figsize = (30,6))\n",
    "\n",
    "sns.countplot('loan_status', data = data_set,palette=\"Set2\", ax = ax1)\n",
    "plt.xticks(rotation=30)"
   ]
  },
  {
   "cell_type": "code",
   "execution_count": 92,
   "metadata": {},
   "outputs": [],
   "source": [
    "from sklearn.model_selection import train_test_split\n",
    "from sklearn.ensemble import RandomForestClassifier\n",
    "from sklearn.metrics import accuracy_score,classification_report,confusion_matrix"
   ]
  },
  {
   "cell_type": "code",
   "execution_count": 93,
   "metadata": {},
   "outputs": [],
   "source": [
    "data_set.dropna(inplace=True)\n",
    "X = data_set.drop('loan_status',axis = 1)\n",
    "y = data_set['loan_status']\n",
    "X_train, X_test, y_train, y_test = train_test_split(X, y, test_size=0.30, random_state=42)"
   ]
  },
  {
   "cell_type": "code",
   "execution_count": 94,
   "metadata": {},
   "outputs": [],
   "source": [
    "rtree = RandomForestClassifier()"
   ]
  },
  {
   "cell_type": "code",
   "execution_count": 95,
   "metadata": {},
   "outputs": [
    {
     "name": "stderr",
     "output_type": "stream",
     "text": [
      "c:\\users\\chirag nagpal\\appdata\\local\\programs\\python\\python37\\lib\\site-packages\\sklearn\\ensemble\\forest.py:246: FutureWarning: The default value of n_estimators will change from 10 in version 0.20 to 100 in 0.22.\n",
      "  \"10 in version 0.20 to 100 in 0.22.\", FutureWarning)\n"
     ]
    },
    {
     "data": {
      "text/plain": [
       "RandomForestClassifier(bootstrap=True, class_weight=None, criterion='gini',\n",
       "            max_depth=None, max_features='auto', max_leaf_nodes=None,\n",
       "            min_impurity_decrease=0.0, min_impurity_split=None,\n",
       "            min_samples_leaf=1, min_samples_split=2,\n",
       "            min_weight_fraction_leaf=0.0, n_estimators=10, n_jobs=None,\n",
       "            oob_score=False, random_state=None, verbose=0,\n",
       "            warm_start=False)"
      ]
     },
     "execution_count": 95,
     "metadata": {},
     "output_type": "execute_result"
    }
   ],
   "source": [
    "\n",
    "rtree.fit(X_train,y_train)\n"
   ]
  },
  {
   "cell_type": "code",
   "execution_count": 97,
   "metadata": {},
   "outputs": [],
   "source": [
    "predictions = rtree.predict(X_test)"
   ]
  },
  {
   "cell_type": "code",
   "execution_count": 98,
   "metadata": {},
   "outputs": [
    {
     "data": {
      "text/plain": [
       "0.9645736137092715"
      ]
     },
     "execution_count": 98,
     "metadata": {},
     "output_type": "execute_result"
    }
   ],
   "source": [
    "accuracy_score(y_test,predictions)"
   ]
  },
  {
   "cell_type": "code",
   "execution_count": null,
   "metadata": {},
   "outputs": [],
   "source": []
  }
 ],
 "metadata": {
  "kernelspec": {
   "display_name": "Python 3",
   "language": "python",
   "name": "python3"
  },
  "language_info": {
   "codemirror_mode": {
    "name": "ipython",
    "version": 3
   },
   "file_extension": ".py",
   "mimetype": "text/x-python",
   "name": "python",
   "nbconvert_exporter": "python",
   "pygments_lexer": "ipython3",
   "version": "3.7.2"
  }
 },
 "nbformat": 4,
 "nbformat_minor": 2
}
