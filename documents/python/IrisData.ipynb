{
 "cells": [
  {
   "cell_type": "code",
   "execution_count": 1,
   "metadata": {},
   "outputs": [],
   "source": [
    "import numpy as np\n",
    "import pandas as pd\n",
    "from numpy import genfromtxt\n",
    "my_data =genfromtxt('https://archive.ics.uci.edu/ml/machine-learning-databases/iris/iris.data',delimiter=',',dtype='unicode')\n",
    "np.random.shuffle(my_data)"
   ]
  },
  {
   "cell_type": "code",
   "execution_count": 9,
   "metadata": {},
   "outputs": [
    {
     "name": "stdout",
     "output_type": "stream",
     "text": [
      "Accuracy is 92%\n"
     ]
    }
   ],
   "source": [
    "X_train = np.array(my_data[:100,:4],dtype='float64')\n",
    "X_test = np.array(my_data[100:,:4],dtype = 'float64')\n",
    "y_train = np.array(my_data[:100,4])\n",
    "y_test = np.array(my_data[100:,4])\n",
    "y_test[y_test=='Iris-versicolor']=1\n",
    "y_test[y_test=='Iris-setosa']=2\n",
    "y_test[y_test=='Iris-virginica']=3\n",
    "y_train[y_train=='Iris-versicolor']=1\n",
    "y_train[y_train=='Iris-setosa']=2\n",
    "y_train[y_train=='Iris-virginica']=3\n",
    "acccount = 0\n",
    "euclidiandist=[]\n",
    "for i in range(50):\n",
    "    euclidiandist= np.sqrt(np.square(X_test[i,0]-X_train[:,0])+np.square(X_test[i,1]-X_train[:,1])+np.square(X_test[i,2]-X_train[:,2])+np.square(X_test[i,3]-X_train[:,3]))\n",
    "    if y_train[np.argmin(euclidiandist)]==y_test[i]:\n",
    "        acccount+=1\n",
    "print('Accuracy is '+str(acccount*2)+'%')\n",
    "    "
   ]
  },
  {
   "cell_type": "code",
   "execution_count": null,
   "metadata": {},
   "outputs": [],
   "source": []
  },
  {
   "cell_type": "code",
   "execution_count": 8,
   "metadata": {},
   "outputs": [
    {
     "name": "stdout",
     "output_type": "stream",
     "text": [
      "Accuracy at 1 is 92\n",
      "Accuracy at 3 is 92\n",
      "Accuracy at 5 is 92\n",
      "Accuracy at 7 is 94\n",
      "Accuracy at 9 is 96\n",
      "Accuracy at 11 is 96\n",
      "Accuracy at 13 is 94\n",
      "Accuracy at 15 is 94\n",
      "Accuracy at 17 is 92\n",
      "Accuracy at 19 is 90\n",
      "Accuracy at 21 is 92\n",
      "Accuracy at 23 is 90\n",
      "Accuracy at 25 is 90\n"
     ]
    }
   ],
   "source": [
    "X_train = np.array(my_data[:100,:4],dtype='float64')\n",
    "X_test = np.array(my_data[100:,:4],dtype = 'float64')\n",
    "y_train = np.array(my_data[:100,4])\n",
    "y_test = np.array(my_data[100:,4])\n",
    "y_test[y_test=='Iris-versicolor']=1\n",
    "y_test[y_test=='Iris-setosa']=2\n",
    "y_test[y_test=='Iris-virginica']=3\n",
    "y_train[y_train=='Iris-versicolor']=1\n",
    "y_train[y_train=='Iris-setosa']=2\n",
    "y_train[y_train=='Iris-virginica']=3\n",
    "euclidiandist=[]\n",
    "klist = np.arange(1,26,2)\n",
    "for k in klist:\n",
    "    acccount=0\n",
    "    for i in range(50):\n",
    "        euclidiandist= np.sqrt(np.square(X_test[i,0]-X_train[:,0])+np.square(X_test[i,1]-X_train[:,1])+np.square(X_test[i,2]-X_train[:,2])+np.square(X_test[i,3]-X_train[:,3]))\n",
    "        argsortedarray = y_train[np.argsort(euclidiandist)][:k]\n",
    "        diction = pd.Series(argsortedarray.flatten()).value_counts()\n",
    "        if y_test[i] == diction.idxmax():\n",
    "            acccount+=1\n",
    "    \n",
    "    print('Accuracy at',k, \"is\",acccount*2)\n",
    "    "
   ]
  },
  {
   "cell_type": "code",
   "execution_count": 4,
   "metadata": {},
   "outputs": [],
   "source": [
    "if y_train[np.argmin(euclidiandist)]==y_test[i]:\n",
    "        acccount+=1"
   ]
  },
  {
   "cell_type": "code",
   "execution_count": 18,
   "metadata": {},
   "outputs": [],
   "source": [
    "abc = pd.Series([12,23,21],[1,2,3])"
   ]
  },
  {
   "cell_type": "code",
   "execution_count": 19,
   "metadata": {},
   "outputs": [
    {
     "data": {
      "text/plain": [
       "2"
      ]
     },
     "execution_count": 19,
     "metadata": {},
     "output_type": "execute_result"
    }
   ],
   "source": [
    "abc.idxmax()"
   ]
  },
  {
   "cell_type": "code",
   "execution_count": null,
   "metadata": {},
   "outputs": [],
   "source": []
  }
 ],
 "metadata": {
  "kernelspec": {
   "display_name": "Python 3",
   "language": "python",
   "name": "python3"
  },
  "language_info": {
   "codemirror_mode": {
    "name": "ipython",
    "version": 3
   },
   "file_extension": ".py",
   "mimetype": "text/x-python",
   "name": "python",
   "nbconvert_exporter": "python",
   "pygments_lexer": "ipython3",
   "version": "3.7.2"
  }
 },
 "nbformat": 4,
 "nbformat_minor": 2
}
