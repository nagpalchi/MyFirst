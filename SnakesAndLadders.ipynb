{
 "cells": [
  {
   "cell_type": "code",
   "execution_count": 1,
   "metadata": {},
   "outputs": [],
   "source": [
    "import numpy as np"
   ]
  },
  {
   "cell_type": "code",
   "execution_count": null,
   "metadata": {},
   "outputs": [
    {
     "name": "stdout",
     "output_type": "stream",
     "text": [
      "Enter the number of test cases1\n"
     ]
    }
   ],
   "source": [
    "numberofInputs = input(\"Enter the number of test cases\")\n",
    "for i in numberofInputs:\n",
    "    atStep = 1\n",
    "    probabilities = input(\"Enter the probabilities of dice and make sure the sum is 1\").split(\",\")\n",
    "    numberofSnL = input(\"Enter the number of snakes and ladders\").split(\",\")\n",
    "    ladderArr = input(\"Enter the ladder start and end points in commas\").split(\" \")\n",
    "    snakesArr = input(\"Enter the snakes start and end points in commas\").split(\" \")\n",
    "    numbersteps = np.arange(1,7)\n",
    "    ladders = {}\n",
    "    snakes = {}\n",
    "    count = 0\n",
    "    for l in ladderArr:\n",
    "        i = l.split(\",\")\n",
    "        ladders[int(i[0])]= int(i[1])\n",
    "    for s in snakesArr:\n",
    "        i = s.split(\",\")\n",
    "        snakes[int(i[0])] = int(i[1])\n",
    "    while atStep!=100:\n",
    "        var = np.random.choice(numbersteps,1,probabilities)\n",
    "        atStep += var[0]\n",
    "        #print(\"Input was \",var[0],\"and current position = \",atStep)\n",
    "        if atStep in ladders.keys():\n",
    "            atStep = ladders[atStep]\n",
    "        elif atStep in snakes.keys():\n",
    "            atStep = snakes[atStep]\n",
    "        if atStep == 100:\n",
    "            count+=1\n",
    "            break\n",
    "        elif atStep > 100:\n",
    "            atStep-=var[0]\n",
    "        \n",
    "        count+=1\n",
    "    print(\"Total Rolls Count = \",count)\n"
   ]
  },
  {
   "cell_type": "code",
   "execution_count": null,
   "metadata": {},
   "outputs": [],
   "source": []
  },
  {
   "cell_type": "code",
   "execution_count": null,
   "metadata": {},
   "outputs": [],
   "source": []
  },
  {
   "cell_type": "code",
   "execution_count": null,
   "metadata": {},
   "outputs": [],
   "source": []
  },
  {
   "cell_type": "code",
   "execution_count": null,
   "metadata": {},
   "outputs": [],
   "source": []
  },
  {
   "cell_type": "code",
   "execution_count": null,
   "metadata": {},
   "outputs": [],
   "source": []
  }
 ],
 "metadata": {
  "kernelspec": {
   "display_name": "Python 3",
   "language": "python",
   "name": "python3"
  },
  "language_info": {
   "codemirror_mode": {
    "name": "ipython",
    "version": 3
   },
   "file_extension": ".py",
   "mimetype": "text/x-python",
   "name": "python",
   "nbconvert_exporter": "python",
   "pygments_lexer": "ipython3",
   "version": "3.7.2"
  }
 },
 "nbformat": 4,
 "nbformat_minor": 2
}
